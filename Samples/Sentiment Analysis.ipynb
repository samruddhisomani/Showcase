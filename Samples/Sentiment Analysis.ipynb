{
 "cells": [
  {
   "cell_type": "code",
   "execution_count": 2,
   "metadata": {
    "collapsed": false
   },
   "outputs": [],
   "source": [
    "import pandas as pd\n",
    "import cPickle as pickle\n",
    "from numpy import isnan\n",
    "from nltk.corpus import stopwords\n",
    "\n",
    "from textblob import Word\n",
    "from textblob.base import BaseTokenizer\n",
    "from textblob import TextBlob\n",
    "from textblob import Blobber\n",
    "from textblob.tokenizers import WordTokenizer"
   ]
  },
  {
   "cell_type": "code",
   "execution_count": 3,
   "metadata": {
    "collapsed": false
   },
   "outputs": [
    {
     "data": {
      "text/plain": [
       "'Which still didn\\'t amount to beating their competitors from BMW and Mercedes. Period. Neither IS nor GS were intended to beat 3, 5, C or E on their own.  IS and GS were performance extensions of ES and RX mainstream cars.  ES and RX competed against 325, 525, C240, C280, E320 and their wagon variants; IS and GS competed against 3Series , 530i, 545i, C320, and E500.  If anything, one might make the argument that BMW and MB copy each other\\'s product lineups, replete with almost one-on-one sedan and wagon offerings,  whereas Lexus took quite a different route. The CLS competitors are rumored and upcoming, Is that your way of backtracking what you said earlier??  But you are the one spreading the \"rumors,\" whether that rumor has any substance or not. AMG vs M? What does that have to do with anything? AMG is obviously an MB attempt to copy the success BMW\\'s M division.  They compete for the similar clientelles; just look at the numerous comparos.  Your argument splitting hair about AMG using AMG and force-induction therefore it\\'s not copying M division is laughable . . . by that logic, Lexus never copied anyone because it packed more electronics, electronics that actually worked, into their cars.  Get real. None of these cars compete in this space so why bring them up?  Of course these cars about ride over handling.  In case you did not notice, that\\'s the direction lsis headed.  Much of SClass sales worldwide are to fleets; the drivers are often not owners Problem is you just skirted over the issue when it comes someone trying to build an Lexus LS. NO ONE IS. Lexus spends their time trying to build a Mercedes SClass and now (according to some, not necessarily me) a 7Series. There is no point for anyone else to make an lsexcept for Lexus; nor anyone to make an SClass except MB; nor anyone to make a 7 except for BMW.  However, if you can make a better lsthan Lexus, or better S than MB, or better 7 than BMW, and still be able to sell with a competitive value proposition, you have a business plan.  The reality is that, nobody in their right mind dares to even try making a better lsthan Lexus.  The same can not be said of S (or CLS, like you said ealier).'"
      ]
     },
     "execution_count": 3,
     "metadata": {},
     "output_type": "execute_result"
    }
   ],
   "source": [
    "#scores=pd.read_csv(\"Assignment 3 Sentiment Scores (2).csv\")\n",
    "def repLace (x,old, new):\n",
    "    fixed = x.replace(old,new)\n",
    "    return fixed\n",
    "def repLaces (x,old, new):\n",
    "    fixed = x.lower().replace(old,new)\n",
    "    return fixed\n",
    "data=pd.read_csv(\"Assignment 3 Edmunds Posts.csv\", usecols=[0])\n",
    "data['Posts'] = data['Posts'].map(lambda x: repLace(x,\"LexusES\",\"ES\"))\n",
    "data['Posts'] = data['Posts'].map(lambda x: repLace(x,\"LexusLS\",\"LS\"))\n",
    "data['Posts'] = data['Posts'].map(lambda x: repLace(x,\"LexusRX\",\"RX\"))\n",
    "data['Posts'][4]\n",
    "# \"LexusES dlfja;skdfjalsj\".replace(\"LexusES\",\"LS\")"
   ]
  },
  {
   "cell_type": "code",
   "execution_count": 264,
   "metadata": {
    "collapsed": false
   },
   "outputs": [],
   "source": [
    "tb=Blobber(tokenizer=WordTokenizer())"
   ]
  },
  {
   "cell_type": "code",
   "execution_count": 265,
   "metadata": {
    "collapsed": false
   },
   "outputs": [],
   "source": [
    "#data['tokens']=data['Posts'].apply(lambda x: tb(str(x)).tokenize())"
   ]
  },
  {
   "cell_type": "code",
   "execution_count": 3,
   "metadata": {
    "collapsed": false
   },
   "outputs": [],
   "source": [
    "sw=stopwords.words('english')\n",
    "\n",
    "sw.remove('not')\n",
    "\n",
    "def doItAllFunction (xstring):\n",
    "    global sw\n",
    "    tokens=list(TextBlob(str(xstring)).words)\n",
    "    removeStopWords=[word for word in tokens if word.lower() not in sw]\n",
    "    lemmaed=[Word(w).lemmatize() for w in removeStopWords]\n",
    "    lowercase=[word.lower() for word in lemmaed]\n",
    "    return lowercase"
   ]
  },
  {
   "cell_type": "code",
   "execution_count": 267,
   "metadata": {
    "collapsed": false
   },
   "outputs": [],
   "source": [
    "data['tokens_clean']=data['Posts'].apply(doItAllFunction)"
   ]
  },
  {
   "cell_type": "code",
   "execution_count": 268,
   "metadata": {
    "collapsed": false
   },
   "outputs": [],
   "source": [
    "models_skinny=[\"es\",\"ls\",\"rx\",\"a8\",\"a6\",\"3series\",\"5series\",\"7series\",\"xj\",\"sclass\"] #lexusls, lexuses"
   ]
  },
  {
   "cell_type": "code",
   "execution_count": 269,
   "metadata": {
    "collapsed": true
   },
   "outputs": [],
   "source": [
    "models=[\" es \",\" ls \",\" rx \",\" a8 \",\" a6 \",\" 3series \",\" 5series \",\" 7series \",\" xj \",\" sclass \"] #lexusls, lexuses"
   ]
  },
  {
   "cell_type": "code",
   "execution_count": 270,
   "metadata": {
    "collapsed": false
   },
   "outputs": [],
   "source": [
    "def finder (tokensList, modelList, numberWords):\n",
    "    blanklist=[]\n",
    "    for i in xrange(len(tokensList)):\n",
    "        if tokensList[i] in modelList:\n",
    "            blanklist.append(tokensList[i-numberWords:i+1+numberWords])\n",
    "    return blanklist"
   ]
  },
  {
   "cell_type": "code",
   "execution_count": 271,
   "metadata": {
    "collapsed": false
   },
   "outputs": [],
   "source": [
    "data['model_tokens']=data['tokens_clean'].apply(lambda x: finder(x,models_skinny, 2))"
   ]
  },
  {
   "cell_type": "code",
   "execution_count": 4,
   "metadata": {
    "collapsed": false
   },
   "outputs": [],
   "source": [
    "class DoItAll(BaseTokenizer):\n",
    "    sw=sw\n",
    "    def __self__(self):\n",
    "        pass\n",
    "    def tokenize(self, text):\n",
    "        tokens=list(TextBlob(str(text),tokenizer=WordTokenizer()).words)\n",
    "        removeStopWords=[word for word in tokens if word.isalpha() and word.lower() not in sw]\n",
    "        lemmaed=[Word(w).lemmatize() for w in removeStopWords]\n",
    "        lowercase=[word.lower() for word in lemmaed]\n",
    "        return lowercase"
   ]
  },
  {
   "cell_type": "code",
   "execution_count": 272,
   "metadata": {
    "collapsed": true
   },
   "outputs": [],
   "source": [
    "data['model_strings']=data['model_tokens'].apply(lambda x: [' '.join(inner) for inner in x])"
   ]
  },
  {
   "cell_type": "code",
   "execution_count": 273,
   "metadata": {
    "collapsed": false
   },
   "outputs": [],
   "source": [
    "df=pd.DataFrame(columns=models).join(data['model_strings'], how=\"outer\")"
   ]
  },
  {
   "cell_type": "code",
   "execution_count": 274,
   "metadata": {
    "collapsed": false
   },
   "outputs": [],
   "source": [
    "for index,l in enumerate(df['model_strings']):\n",
    "    for string in l: #looping over all the strings in model_strings\n",
    "            for model in models: #loop over all the models in model list\n",
    "                if model in string: #check if model is in a particular list\n",
    "                    if isnan(df[model].iloc[index]): #correcting for neutral\n",
    "                        df[model].iloc[index]=0\n",
    "                    df[model].iloc[index]+=tb(string).sentiment[0]      "
   ]
  },
  {
   "cell_type": "code",
   "execution_count": 275,
   "metadata": {
    "collapsed": false
   },
   "outputs": [
    {
     "data": {
      "text/plain": [
       "[u'performance extension es rx mainstream',\n",
       " u'extension es rx mainstream car',\n",
       " u'mainstream car es rx competed',\n",
       " u'car es rx competed 325',\n",
       " u'gs competed 3series 530i 545i',\n",
       " u'headed much sclass sale worldwide',\n",
       " u'build lexus ls one lexus',\n",
       " u'build mercedes sclass according not',\n",
       " u'not necessarily 7series point anyone',\n",
       " u'anyone make sclass except mb']"
      ]
     },
     "execution_count": 275,
     "metadata": {},
     "output_type": "execute_result"
    }
   ],
   "source": [
    "df['model_strings'][4]"
   ]
  },
  {
   "cell_type": "code",
   "execution_count": 276,
   "metadata": {
    "collapsed": false
   },
   "outputs": [],
   "source": [
    "df.to_csv(\"outputv3.csv\")"
   ]
  },
  {
   "cell_type": "code",
   "execution_count": 277,
   "metadata": {
    "collapsed": false
   },
   "outputs": [
    {
     "data": {
      "text/plain": [
       "[u'performance extension es rx mainstream',\n",
       " u'extension es rx mainstream car',\n",
       " u'mainstream car es rx competed',\n",
       " u'car es rx competed 325',\n",
       " u'gs competed 3series 530i 545i',\n",
       " u'headed much sclass sale worldwide',\n",
       " u'build lexus ls one lexus',\n",
       " u'build mercedes sclass according not',\n",
       " u'not necessarily 7series point anyone',\n",
       " u'anyone make sclass except mb']"
      ]
     },
     "execution_count": 277,
     "metadata": {},
     "output_type": "execute_result"
    }
   ],
   "source": [
    "df['model_strings'][4]"
   ]
  },
  {
   "cell_type": "code",
   "execution_count": null,
   "metadata": {
    "collapsed": true
   },
   "outputs": [],
   "source": []
  }
 ],
 "metadata": {
  "kernelspec": {
   "display_name": "Python 2",
   "language": "python",
   "name": "python2"
  },
  "language_info": {
   "codemirror_mode": {
    "name": "ipython",
    "version": 2
   },
   "file_extension": ".py",
   "mimetype": "text/x-python",
   "name": "python",
   "nbconvert_exporter": "python",
   "pygments_lexer": "ipython2",
   "version": "2.7.10"
  },
  "notify_time": "0"
 },
 "nbformat": 4,
 "nbformat_minor": 0
}
